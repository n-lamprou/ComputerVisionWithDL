{
 "cells": [
  {
   "cell_type": "markdown",
   "metadata": {},
   "source": [
    "# Introduction to Tensorflow - A Deep Logistic Classifier\n",
    "\n",
    "In Part 2 of the introduction to tensorflow notebooks a simple logistic classifier was built using TensorFlow. In this part, the logistic classifier is going to be extended by adding hidden layers making the neural network 'deep'.\n",
    "Topics covered here:\n",
    "\n",
    "  *  Addition of a hidden layer\n",
    "  *  Use of RELU (Rectified Linear Units)\n",
    "  *  Dropout as a regularisation technique\n"
   ]
  },
  {
   "cell_type": "markdown",
   "metadata": {},
   "source": [
    "### Hidden Layer with ReLU activation function\n",
    "\n",
    "ReLU or Rectified Linear Unit is a simple and effective activation function commonly used.\n",
    "TensorFlow provides the ReLU function as `tf.nn.relu()`.\n",
    "\n",
    "```python\n",
    "\n",
    "hidden_layer = tf.add(tf.matmul(features, hidden_weights), hidden_biases)\n",
    "hidden_layer = tf.nn.relu(hidden_layer)\n",
    "\n",
    "output = tf.add(tf.matmul(hidden_layer, output_weights), output_biases)\n",
    "```\n",
    "\n",
    "The above code applies the `tf.nn.relu()` function to the hidden_layer, effectively turning off any negative weights and acting like an on/off switch. Adding additional layers, like the output layer, after an activation function turns the model into a nonlinear function. This nonlinearity allows the network to solve more complex problems."
   ]
  },
  {
   "cell_type": "markdown",
   "metadata": {},
   "source": [
    "### Dropout \n",
    "\n",
    "Dropout is a regularization technique for reducing overfitting. The technique temporarily drops units from the network, along with all of those units' incoming and outgoing connections. \n",
    "\n",
    "TensorFlow provides the `tf.nn.dropout()` function, which you can use to implement dropout.\n",
    "\n",
    "```python\n",
    "keep_prob = tf.placeholder(tf.float32) # probability to keep units\n",
    "\n",
    "hidden_layer = tf.add(tf.matmul(features, weights[0]), biases[0])\n",
    "hidden_layer = tf.nn.relu(hidden_layer)\n",
    "hidden_layer = tf.nn.dropout(hidden_layer, keep_prob)\n",
    "\n",
    "logits = tf.add(tf.matmul(hidden_layer, weights[1]), biases[1])\n",
    "\n",
    "```\n",
    "\n",
    "The `tf.nn.dropout()` function takes in two parameters:\n",
    "\n",
    "* `hidden_layer`: the tensor to which you would like to apply dropout\n",
    "* `keep_prob`: the probability of keeping (i.e. not dropping) any given unit\n",
    "\n",
    "`keep_prob` allows you to adjust the number of units to drop. In order to compensate for dropped units, `tf.nn.dropout()` multiplies all units that are kept (i.e. not dropped) by $1/\\mbox{keep_prob}$.\n",
    "\n",
    "During training, a good starting value for keep_prob is 0.5.\n",
    "\n",
    "During testing, use a keep_prob value of 1.0 to keep all units and maximize the power of the model."
   ]
  },
  {
   "cell_type": "markdown",
   "metadata": {},
   "source": [
    "### Load Modules and MNIST data "
   ]
  },
  {
   "cell_type": "code",
   "execution_count": 1,
   "metadata": {},
   "outputs": [
    {
     "name": "stdout",
     "output_type": "stream",
     "text": [
      "Extracting ./train-images-idx3-ubyte.gz\n",
      "Extracting ./train-labels-idx1-ubyte.gz\n",
      "Extracting ./t10k-images-idx3-ubyte.gz\n",
      "Extracting ./t10k-labels-idx1-ubyte.gz\n"
     ]
    }
   ],
   "source": [
    "%matplotlib inline\n",
    "import tensorflow as tf\n",
    "import math\n",
    "import numpy as np\n",
    "from tqdm import tqdm\n",
    "import matplotlib.pyplot as plt\n",
    "\n",
    "\n",
    "from tensorflow.examples.tutorials.mnist import input_data\n",
    "mnist = input_data.read_data_sets(\".\", one_hot=True, reshape=False)"
   ]
  },
  {
   "cell_type": "code",
   "execution_count": 6,
   "metadata": {
    "collapsed": true
   },
   "outputs": [],
   "source": [
    "train_features = mnist.train.images\n",
    "train_labels = mnist.train.labels\n",
    "valid_features = mnist.validation.images\n",
    "valid_labels = mnist.validation.labels\n",
    "test_features = mnist.test.images\n",
    "test_labels = mnist.test.labels"
   ]
  },
  {
   "cell_type": "code",
   "execution_count": 25,
   "metadata": {},
   "outputs": [],
   "source": [
    "# Parameters\n",
    "learning_rate = 0.01\n",
    "batch_size = 128  # Decrease batch size if you don't have enough memory\n",
    "epochs = 10\n",
    "n_hidden_layer = 128 # layer number of features\n",
    "\n",
    "# Dropout \n",
    "keep_prob = tf.placeholder(tf.float32)\n",
    "\n",
    "n_input = 784  # MNIST data input (img shape: 28*28)\n",
    "n_classes = 10  # MNIST total classes (0-9 digits)\n",
    "\n",
    "\n",
    "# Store layers weight & bias\n",
    "weights = {\n",
    "    'hidden_layer': tf.Variable(tf.random_normal([n_input, n_hidden_layer]), name='hidden_layer_1_weights'),\n",
    "    'out': tf.Variable(tf.random_normal([n_hidden_layer, n_classes]), name='output_layer_weights')\n",
    "}\n",
    "biases = {\n",
    "    'hidden_layer': tf.Variable(tf.random_normal([n_hidden_layer]), name='hidden_layer_1_bias'),\n",
    "    'out': tf.Variable(tf.random_normal([n_classes]), name='output_layer_bias')\n",
    "}\n",
    "\n",
    "# tf Graph input\n",
    "features_original = tf.placeholder(tf.float32, [None, 28, 28, 1])\n",
    "features = tf.reshape(features_original, [-1, n_input])\n",
    "labels = tf.placeholder(tf.float32, [None, n_classes])\n",
    "\n",
    "# Feed dicts for training, validation, and test session\n",
    "train_feed_dict = {features_original: train_features, labels: train_labels, keep_prob: 0.5}\n",
    "valid_feed_dict = {features_original: valid_features, labels: valid_labels, keep_prob: 1.0}\n",
    "test_feed_dict = {features_original: test_features, labels: test_labels, keep_prob: 1.0}\n",
    "\n",
    "# Hidden layer with RELU activation\n",
    "hidden_layer_1 = tf.add(tf.matmul(features, weights['hidden_layer']), biases['hidden_layer'])\n",
    "hidden_layer_1 = tf.nn.relu(hidden_layer_1)\n",
    "hidden_layer_1 = tf.nn.dropout(hidden_layer_1, keep_prob)\n",
    "\n",
    "# Output layer with linear activation\n",
    "logits = tf.matmul(hidden_layer_1, weights['out']) + biases['out']\n",
    "prediction = tf.nn.softmax(logits)\n",
    "\n",
    "# Define loss and optimizer\n",
    "loss = tf.reduce_mean(tf.nn.softmax_cross_entropy_with_logits(logits=logits, labels=labels))\n",
    "optimizer = tf.train.AdamOptimizer(learning_rate=learning_rate).minimize(loss)\n",
    "\n",
    "# Initializing the variables\n",
    "init = tf.global_variables_initializer()\n",
    "\n",
    "# Determine if the predictions are correct\n",
    "is_correct_prediction = tf.equal(tf.argmax(prediction, 1), tf.argmax(labels, 1))\n",
    "\n",
    "# Calculate the accuracy of the predictions\n",
    "accuracy = tf.reduce_mean(tf.cast(is_correct_prediction, tf.float32))   "
   ]
  },
  {
   "cell_type": "code",
   "execution_count": 26,
   "metadata": {},
   "outputs": [
    {
     "name": "stderr",
     "output_type": "stream",
     "text": [
      "Epoch  1/10: 100%|██████████| 430/430 [00:06<00:00, 66.31batches/s]\n",
      "Epoch  2/10: 100%|██████████| 430/430 [00:06<00:00, 67.46batches/s]\n",
      "Epoch  3/10: 100%|██████████| 430/430 [00:06<00:00, 68.02batches/s]\n",
      "Epoch  4/10: 100%|██████████| 430/430 [00:06<00:00, 67.49batches/s]\n",
      "Epoch  5/10: 100%|██████████| 430/430 [00:06<00:00, 55.75batches/s]\n",
      "Epoch  6/10: 100%|██████████| 430/430 [00:07<00:00, 58.49batches/s]\n",
      "Epoch  7/10: 100%|██████████| 430/430 [00:07<00:00, 61.14batches/s]\n",
      "Epoch  8/10: 100%|██████████| 430/430 [00:07<00:00, 58.84batches/s]\n",
      "Epoch  9/10: 100%|██████████| 430/430 [00:06<00:00, 65.27batches/s]\n",
      "Epoch 10/10: 100%|██████████| 430/430 [00:06<00:00, 67.76batches/s]\n"
     ]
    },
    {
     "name": "stdout",
     "output_type": "stream",
     "text": [
      "Trained Model Saved.\n"
     ]
    },
    {
     "data": {
      "image/png": "[encoded data removed]",
      "text/plain": [
       "<matplotlib.figure.Figure at 0x11b873550>"
      ]
     },
     "metadata": {},
     "output_type": "display_data"
    },
    {
     "name": "stdout",
     "output_type": "stream",
     "text": [
      "Validation accuracy at 0.944599986076355\n"
     ]
    }
   ],
   "source": [
    "# The accuracy measured against the validation set\n",
    "validation_accuracy = 0.0\n",
    "\n",
    "# Measurements use for graphing loss and accuracy\n",
    "log_batch_step = 50\n",
    "batches = []\n",
    "loss_batch = []\n",
    "train_acc_batch = []\n",
    "valid_acc_batch = []\n",
    "\n",
    "save_file = './train_deep_model.ckpt'\n",
    "saver = tf.train.Saver()\n",
    "\n",
    "with tf.Session() as session:\n",
    "    session.run(init)\n",
    "    batch_count = int(math.ceil(len(train_features)/batch_size))\n",
    "    \n",
    "    for epoch_i in range(epochs):\n",
    "        #np.random.seed(epoch_i); np.random.shuffle(train_features)\n",
    "        #np.random.seed(epoch_i); np.random.shuffle(train_labels)\n",
    "        \n",
    "        # Progress bar\n",
    "        batches_pbar = tqdm(range(batch_count), desc='Epoch {:>2}/{}'.format(epoch_i+1, epochs), unit='batches')\n",
    "        \n",
    "        # The training cycle\n",
    "        for batch_i in batches_pbar:\n",
    "            # Get a batch of training features and labels\n",
    "            batch_start = batch_i*batch_size\n",
    "            batch_features = train_features[batch_start:batch_start + batch_size]\n",
    "            batch_labels = train_labels[batch_start:batch_start + batch_size]\n",
    "\n",
    "            # Run optimizer and get loss\n",
    "            _, l = session.run([optimizer, loss],\n",
    "                               feed_dict={features_original: batch_features, \n",
    "                                          labels: batch_labels,\n",
    "                                          keep_prob: 0.5\n",
    "                                         })\n",
    "\n",
    "            # Log every 50 batches\n",
    "            if not batch_i % log_batch_step:\n",
    "                # Calculate Training and Validation accuracy\n",
    "                training_accuracy = session.run(accuracy, feed_dict=train_feed_dict)\n",
    "                validation_accuracy = session.run(accuracy, feed_dict=valid_feed_dict)\n",
    "\n",
    "                # Log batches\n",
    "                previous_batch = batches[-1] if batches else 0\n",
    "                batches.append(log_batch_step + previous_batch)\n",
    "                loss_batch.append(l)\n",
    "                train_acc_batch.append(training_accuracy)\n",
    "                valid_acc_batch.append(validation_accuracy)\n",
    "\n",
    "        # Check accuracy against Validation data\n",
    "        validation_accuracy = session.run(accuracy, feed_dict=valid_feed_dict)\n",
    "    \n",
    "    # Save the model\n",
    "    saver.save(session, save_file)\n",
    "    print('Trained Model Saved.')\n",
    "\n",
    "loss_plot = plt.subplot(211)\n",
    "loss_plot.set_title('Loss')\n",
    "loss_plot.plot(batches, loss_batch, 'g')\n",
    "loss_plot.set_xlim([batches[0], batches[-1]])\n",
    "acc_plot = plt.subplot(212)\n",
    "acc_plot.set_title('Accuracy')\n",
    "acc_plot.plot(batches, train_acc_batch, 'r', label='Training Accuracy')\n",
    "acc_plot.plot(batches, valid_acc_batch, 'x', label='Validation Accuracy')\n",
    "acc_plot.set_ylim([0, 1.0])\n",
    "acc_plot.set_xlim([batches[0], batches[-1]])\n",
    "acc_plot.legend(loc=4)\n",
    "plt.tight_layout()\n",
    "plt.show()\n",
    "\n",
    "print('Validation accuracy at {}'.format(validation_accuracy))"
   ]
  },
  {
   "cell_type": "markdown",
   "metadata": {},
   "source": [
    "### Test the model against your hold out dataset/testing data."
   ]
  },
  {
   "cell_type": "code",
   "execution_count": 27,
   "metadata": {},
   "outputs": [
    {
     "name": "stdout",
     "output_type": "stream",
     "text": [
      "0.9435\n"
     ]
    }
   ],
   "source": [
    "# The accuracy measured against the test set\n",
    "test_accuracy = 0.0\n",
    "\n",
    "# Restore location\n",
    "saver = tf.train.Saver()\n",
    "\n",
    "with tf.Session() as session:\n",
    "    \n",
    "    # Restore model from file\n",
    "    saver.restore(session, save_file)\n",
    "    \n",
    "    # Check accuracy against Test data\n",
    "    test_accuracy = session.run(accuracy, feed_dict=test_feed_dict)\n",
    "    print(test_accuracy)"
   ]
  },
  {
   "cell_type": "code",
   "execution_count": null,
   "metadata": {
    "collapsed": true
   },
   "outputs": [],
   "source": []
  }
 ],
 "metadata": {
  "hide_input": false,
  "kernelspec": {
   "display_name": "Python 3",
   "language": "python",
   "name": "python3"
  },
  "language_info": {
   "codemirror_mode": {
    "name": "ipython",
    "version": 3
   },
   "file_extension": ".py",
   "mimetype": "text/x-python",
   "name": "python",
   "nbconvert_exporter": "python",
   "pygments_lexer": "ipython3",
   "version": "3.6.5"
  }
 },
 "nbformat": 4,
 "nbformat_minor": 2
}
