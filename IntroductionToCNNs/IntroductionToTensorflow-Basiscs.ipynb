{
 "cells": [
  {
   "cell_type": "markdown",
   "metadata": {},
   "source": [
    "# Introduction to Tensorflow - The Basics\n",
    "\n",
    "\n",
    "In this notebook the following basic functionality of Tensorflow is explained:\n",
    "\n",
    "  *  Tensorflow Installation.\n",
    "  *  Operations in `tf.Session`.\n",
    "  *  Creating a constant tensor with `tf.constant()`.\n",
    "  *  Using `tf.placeholder()` and `feed_dict` to get input.\n",
    "  *  Application of the `tf.add()`, `tf.subtract()`, `tf.multiply()`, and `tf.divide()` functions using numeric data.\n",
    "  *  Casting between types with `tf.cast()`\n"
   ]
  },
  {
   "cell_type": "markdown",
   "metadata": {},
   "source": [
    "### Installation \n",
    "\n",
    "In this intro, Conda will be used to install TensorFlow on an OS X or Linux operating system. You might already have a TensorFlow environment, but check to make sure you have all the necessary packages.\n",
    "\n",
    "Run the following commands to setup your environment:\n",
    "\n",
    "```python\n",
    "conda create -n tensorflow python=3.6\n",
    "source activate tensorflow\n",
    "conda install pandas matplotlib jupyter notebook scipy scikit-learn\n",
    "pip install tensorflow\n",
    "```"
   ]
  },
  {
   "cell_type": "markdown",
   "metadata": {},
   "source": [
    "### Hello, world!\n",
    "\n",
    "Try running the following code in your Python console to make sure you have TensorFlow properly installed. The console will print \"Hello, world!\" if TensorFlow is installed. \n"
   ]
  },
  {
   "cell_type": "code",
   "execution_count": 1,
   "metadata": {},
   "outputs": [
    {
     "name": "stdout",
     "output_type": "stream",
     "text": [
      "b'Hello World!'\n"
     ]
    }
   ],
   "source": [
    "import tensorflow as tf\n",
    "\n",
    "# Create TensorFlow object called tensor\n",
    "hello_constant = tf.constant('Hello World!')\n",
    "\n",
    "with tf.Session() as sess:\n",
    "    # Run the tf.constant operation in the session\n",
    "    output = sess.run(hello_constant)\n",
    "    print(output)"
   ]
  },
  {
   "cell_type": "markdown",
   "metadata": {},
   "source": [
    "#### Tensors\n",
    "\n",
    "In TensorFlow, data isn’t stored as integers, floats, or strings. These values are encapsulated in objects called tensors. In the case of `hello_constant = tf.constant('Hello World!')`, `hello_constant` is a 0-dimensional string tensor, but tensors come in a variety of sizes as shown below:\n",
    "\n",
    "```python\n",
    "# A is a 0-dimensional int32 tensor\n",
    "A = tf.constant(1234) \n",
    "# B is a 1-dimensional int32 tensor\n",
    "B = tf.constant([123,456,789]) \n",
    "# C is a 2-dimensional int32 tensor\n",
    "C = tf.constant([ [123,456,789], [222,333,444] ])\n",
    "```\n",
    "\n",
    "`tf.constant()` is a common TensorFlow operation where the tensor returned is called a constant tensor, because the value of the tensor never changes.\n",
    "\n"
   ]
  },
  {
   "cell_type": "markdown",
   "metadata": {},
   "source": [
    "#### Session\n",
    "\n",
    "TensorFlow’s api is built around the idea of a computational graph.\n",
    "\n",
    "A \"TensorFlow Session\", is an environment for running a graph. The session is in charge of allocating the operations to GPU(s) and/or CPU(s). \n",
    "\n",
    "```python\n",
    "with tf.Session() as sess:\n",
    "    output = sess.run(hello_constant)\n",
    "```\n",
    "\n",
    "The code has already created the tensor, hello_constant, from the previous lines in the Hello World example. The next step is to evaluate the tensor in a session.\n",
    "\n",
    "The code creates a session instance, `sess`, using `tf.Session`. The `sess.run()` function then evaluates the tensor and returns the results."
   ]
  },
  {
   "cell_type": "markdown",
   "metadata": {},
   "source": [
    "### Input - Feeding Data\n",
    "\n",
    "In the previous example a tensor was passed into a session and it returned the result. To use a non-constant however `tf.placeholder()` and `feed_dict` can be used. The following code snippets go over the basics of feeding data into TensorFlow.\n",
    "\n",
    "#### tf.placeholder()\n",
    "\n",
    "`tf.placeholder()` returns a tensor that gets its value from data passed to the `tf.session.run()` function, allowing you to set the input right before the session runs.\n",
    "\n",
    "#### Session’s feed_dict"
   ]
  },
  {
   "cell_type": "code",
   "execution_count": 2,
   "metadata": {},
   "outputs": [
    {
     "name": "stdout",
     "output_type": "stream",
     "text": [
      "Hello World\n"
     ]
    }
   ],
   "source": [
    "x = tf.placeholder(tf.string)\n",
    "\n",
    "with tf.Session() as sess:\n",
    "    output = sess.run(x, feed_dict={x: 'Hello World'})\n",
    "    print(output)"
   ]
  },
  {
   "cell_type": "markdown",
   "metadata": {},
   "source": [
    "Use the feed_dict parameter in `tf.session.run()` to set the placeholder tensor. The above example shows the tensor `x` being set to the string \"Hello, world\". It's also possible to set more than one tensor using `feed_dict` as shown below."
   ]
  },
  {
   "cell_type": "code",
   "execution_count": 3,
   "metadata": {},
   "outputs": [
    {
     "name": "stdout",
     "output_type": "stream",
     "text": [
      "String: Test String, Int: 123, Float: 45\n"
     ]
    }
   ],
   "source": [
    "x = tf.placeholder(tf.string)\n",
    "y = tf.placeholder(tf.int32)\n",
    "z = tf.placeholder(tf.float32)\n",
    "\n",
    "with tf.Session() as sess:\n",
    "    string_, integer_, float_ = sess.run((x,y,z), feed_dict={x: 'Test String', y: 123, z: 45.67})\n",
    "    print('String: %s, Int: %i, Float: %d' % (string_,integer_,float_))"
   ]
  },
  {
   "cell_type": "markdown",
   "metadata": {},
   "source": [
    "### Mathematics in TensorFlow\n",
    "\n",
    "Tensorflow allows the use of many math functions with tensors. Here, some basic functions are shown as an example of how to manipulate the input."
   ]
  },
  {
   "cell_type": "markdown",
   "metadata": {},
   "source": [
    "#### Addition\n",
    "\n",
    "```python\n",
    "x = tf.add(5, 2)  # 7\n",
    "```\n",
    "\n",
    "The tf.add() function does exactly what you expect it to do. It takes in two numbers, two tensors, or one of each, and returns their sum as a tensor.\n",
    "\n",
    "#### Subtraction and Multiplication\n",
    "\n",
    "Here’s another example of basic math operations: subtraction and multiplication.\n",
    "\n",
    "```python\n",
    "x = tf.subtract(10, 4) # 6\n",
    "y = tf.multiply(2, 5)  # 10\n",
    "```\n",
    "\n",
    "\n",
    "#### Converting types\n",
    "\n",
    "It may be necessary to convert between types to make certain operators work together. For example, if you tried the following, it would fail with an exception:\n",
    "\n",
    "```python\n",
    "tf.subtract(tf.constant(2.0),tf.constant(1))  # Fails with ValueError: Tensor conversion requested dtype float32 for Tensor with dtype int32:\n",
    "```\n",
    "\n",
    "That's because the constant 1 is an integer but the constant 2.0 is a floating point value and subtract expects them to match.\n",
    "\n",
    "In cases like these, you can either make sure your data is all of the same type, or you can cast a value to another type. In this case, converting the 2.0 to an integer before subtracting, like so, will give the correct result:\n",
    "\n",
    "```python\n",
    "tf.subtract(tf.cast(tf.constant(2.0), tf.int32), tf.constant(1))   # 1\n",
    "```"
   ]
  },
  {
   "cell_type": "code",
   "execution_count": 4,
   "metadata": {},
   "outputs": [
    {
     "name": "stdout",
     "output_type": "stream",
     "text": [
      "4\n"
     ]
    }
   ],
   "source": [
    "import tensorflow as tf\n",
    "\n",
    "x = tf.placeholder(tf.int32)\n",
    "y = tf.placeholder(tf.int32)\n",
    "z = tf.subtract(tf.div(x, y), tf.constant(1))\n",
    "\n",
    "# Print z from a session\n",
    "with tf.Session() as sess:\n",
    "    output = sess.run(z, feed_dict={x:10, y:2})\n",
    "    print(output)"
   ]
  },
  {
   "cell_type": "code",
   "execution_count": null,
   "metadata": {
    "collapsed": true
   },
   "outputs": [],
   "source": []
  }
 ],
 "metadata": {
  "hide_input": false,
  "kernelspec": {
   "display_name": "Python 3",
   "language": "python",
   "name": "python3"
  },
  "language_info": {
   "codemirror_mode": {
    "name": "ipython",
    "version": 3
   },
   "file_extension": ".py",
   "mimetype": "text/x-python",
   "name": "python",
   "nbconvert_exporter": "python",
   "pygments_lexer": "ipython3",
   "version": "3.6.7"
  }
 },
 "nbformat": 4,
 "nbformat_minor": 2
}
