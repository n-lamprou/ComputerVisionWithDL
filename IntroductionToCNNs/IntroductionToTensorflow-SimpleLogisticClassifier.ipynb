{
 "cells": [
  {
   "cell_type": "markdown",
   "metadata": {},
   "source": [
    "# Introduction to Tensorflow - A Shallow, Simple Logistic Classifier\n",
    "\n",
    "In this notebook the basic building blocks of a classifer in Tensorflow are explained:\n",
    "\n",
    "  *  Creating a variable tensor with tf.Variable().\n",
    "  *  Variable initialisation.\n",
    "  *  Initialisation strategy for weights and bias.\n",
    "  *  Softmax function in tensorflow\n",
    "  *  Cross Entropy as cost function\n",
    "  *  Example classifier for notMNIST dataset\n",
    "  *  Saving a model\n"
   ]
  },
  {
   "cell_type": "markdown",
   "metadata": {},
   "source": [
    "## Linear functions in TensorFlow\n",
    "\n",
    "The most common operation in neural networks is calculating the linear combination of inputs, weights, and biases. \n",
    "\n",
    "$\n",
    "y = xW + b\n",
    "$\n",
    "\n",
    "Here, W is a matrix of the weights connecting two layers. The output y, the input x, and the biases b are all vectors.\n",
    "\n",
    "### Weights and Bias in TensorFlow\n",
    "\n",
    "The goal of training a neural network is to modify weights and biases to best predict the labels. In order to use weights and bias, you'll need a Tensor that can be modified. This leaves out `tf.placeholder()` and `tf.constant()`, since those Tensors can't be modified. This is where `tf.Variable` class comes in.\n",
    "\n",
    "#### tf.Variable()\n",
    "\n",
    "x = tf.Variable(5)\n",
    "\n",
    "The `tf.Variable` class creates a tensor with an initial value that can be modified, much like a normal Python variable. This tensor stores its state in the session, so you must initialize the state of the tensor manually. This is done using the `tf.global_variables_initializer()` function to initialize the state of all the Variable tensors.\n",
    "\n",
    "### Initialization\n",
    "\n",
    "```python\n",
    "init = tf.global_variables_initializer()\n",
    "with tf.Session() as sess:\n",
    "    sess.run(init)\n",
    "```\n",
    "\n",
    "The `tf.global_variables_initializer()` call returns an operation that will initialize all TensorFlow variables from the graph. The operation is called using a session to initialize all the variables as shown above. Using the `tf.Variable` class allows us to change the weights and bias, but an initial value needs to be chosen.\n",
    "\n",
    "Initializing the weights with random numbers from a normal distribution is good practice. Randomizing the weights helps the model from becoming stuck in the same place every time it is trained. \n",
    "\n",
    "Similarly, choosing weights from a normal distribution prevents any one weight from overwhelming other weights. The `tf.truncated_normal()` function can be used to generate random numbers from a normal distribution.\n",
    "\n",
    "#### tf.truncated_normal()\n",
    "\n",
    "```python\n",
    "n_features = 120\n",
    "n_labels = 5\n",
    "weights = tf.Variable(tf.truncated_normal((n_features, n_labels)))\n",
    "```\n",
    "\n",
    "The `tf.truncated_normal()` function returns a tensor with random values from a normal distribution whose magnitude is no more than 2 standard deviations from the mean.\n",
    "\n",
    "Since the weights are already helping prevent the model from getting stuck, you don't need to randomize the bias. Let's use the simplest solution, setting the bias to 0.\n",
    "\n",
    "#### tf.zeros()\n",
    "\n",
    "```python\n",
    "n_labels = 5\n",
    "bias = tf.Variable(tf.zeros(n_labels))\n",
    "```\n",
    "\n",
    "The `tf.zeros()` function returns a tensor with all zeros."
   ]
  },
  {
   "cell_type": "markdown",
   "metadata": {},
   "source": [
    "### Softmax in Tensorflow\n",
    "\n",
    "The softmax function squashes it's inputs, typically called logits or logit scores, to be between 0 and 1 and also normalizes the outputs such that they all sum to 1. This means the output of the softmax function is equivalent to a categorical probability distribution. It's the typical function to use as the output activation for a network predicting multiple classes."
   ]
  },
  {
   "cell_type": "code",
   "execution_count": 1,
   "metadata": {},
   "outputs": [
    {
     "name": "stdout",
     "output_type": "stream",
     "text": [
      "Softmax output: [ 0.65900117  0.24243298  0.09856589]\n",
      "Sum: 1.0\n"
     ]
    }
   ],
   "source": [
    "import tensorflow as tf\n",
    "\n",
    "logit_data = [2.0, 1.0, 0.1]\n",
    "logits = tf.placeholder(tf.float32)\n",
    "\n",
    "softmax = tf.nn.softmax(logits)\n",
    "sum_softmax = tf.reduce_sum(softmax)\n",
    "\n",
    "with tf.Session() as sess:\n",
    "    sm, sum_sm = sess.run((softmax, sum_softmax), feed_dict={logits: logit_data})\n",
    "    print('Softmax output: ' +  str(sm))\n",
    "    print('Sum: ' + str(sum_sm)) "
   ]
  },
  {
   "cell_type": "markdown",
   "metadata": {},
   "source": [
    "### Cross Entropy in TensorFlow\n",
    "\n",
    "Cross entropy can be used as the loss function for classification with one-hot encoded labels. \n",
    "\n",
    "$$\n",
    "D(\\hat{\\textbf{y}}, \\textbf{y}) = - \\sum_{j} y_{j}\\ln \\hat{y}_{j}\n",
    "$$\n",
    "Where $\\hat{\\textbf{y}}$ is the softmax output and $\\textbf{y}$ is the one-hot encoded label\n",
    "\n",
    "TensorFlow has a function to do the cross entropy calculations.\n"
   ]
  },
  {
   "cell_type": "code",
   "execution_count": 2,
   "metadata": {},
   "outputs": [
    {
     "name": "stdout",
     "output_type": "stream",
     "text": [
      "0.356675\n"
     ]
    }
   ],
   "source": [
    "softmax_data = [0.7, 0.2, 0.1]\n",
    "one_hot_data = [1.0, 0.0, 0.0]\n",
    "\n",
    "softmax = tf.placeholder(tf.float32)\n",
    "one_hot = tf.placeholder(tf.float32)\n",
    "\n",
    "# Calculate cross entropy from session\n",
    "cross_entropy = -tf.reduce_sum(tf.multiply(one_hot, tf.log(softmax)))\n",
    "\n",
    "with tf.Session() as sess:\n",
    "    print(sess.run(cross_entropy, feed_dict={softmax: softmax_data, one_hot: one_hot_data}))\n"
   ]
  },
  {
   "cell_type": "markdown",
   "metadata": {},
   "source": [
    "### Train Model to predict notMNIST\n",
    "\n",
    "The MNIST data in the in the repo consists of images of number from 0 to 9 in different fonts.\n",
    "The data has been pre-processed to:\n",
    "* Perform scaling on the pixel data to range 0 - 1. Min Max scalinng:  $ X'=a+{\\frac {\\left(X-X_{\\min }\\right)\\left(b-a\\right)}{X_{\\max }-X_{\\min }}} $\n",
    "\n",
    "* One-hot encode labeled data"
   ]
  },
  {
   "cell_type": "code",
   "execution_count": 3,
   "metadata": {
    "collapsed": true
   },
   "outputs": [],
   "source": [
    "%matplotlib inline\n",
    "\n",
    "# Load the modules\n",
    "import math\n",
    "import numpy as np\n",
    "from tqdm import tqdm\n",
    "import matplotlib.pyplot as plt"
   ]
  },
  {
   "cell_type": "code",
   "execution_count": 4,
   "metadata": {},
   "outputs": [
    {
     "name": "stdout",
     "output_type": "stream",
     "text": [
      "Extracting ./train-images-idx3-ubyte.gz\n",
      "Extracting ./train-labels-idx1-ubyte.gz\n",
      "Extracting ./t10k-images-idx3-ubyte.gz\n",
      "Extracting ./t10k-labels-idx1-ubyte.gz\n"
     ]
    }
   ],
   "source": [
    "from tensorflow.examples.tutorials.mnist import input_data\n",
    "mnist = input_data.read_data_sets(\".\", one_hot=True, reshape=False)"
   ]
  },
  {
   "cell_type": "code",
   "execution_count": 5,
   "metadata": {
    "collapsed": true
   },
   "outputs": [],
   "source": [
    "train_features = mnist.train.images\n",
    "train_labels = mnist.train.labels\n",
    "valid_features = mnist.validation.images\n",
    "valid_labels = mnist.validation.labels\n",
    "test_features = mnist.test.images\n",
    "test_labels = mnist.test.labels"
   ]
  },
  {
   "cell_type": "code",
   "execution_count": 6,
   "metadata": {},
   "outputs": [],
   "source": [
    "n_input = 784  # MNIST data input (img shape: 28*28)\n",
    "n_classes = 10  # MNIST total classes (0-9 digits)\n",
    "\n",
    "# tf Graph input\n",
    "features_original = tf.placeholder(tf.float32, [None, 28, 28, 1])\n",
    "features = tf.reshape(features_original, [-1, n_input])\n",
    "labels = tf.placeholder(tf.float32, [None, n_classes])\n",
    "\n",
    "# Set the weights and biases tensors\n",
    "weights = tf.Variable(tf.truncated_normal((n_input, n_classes)))\n",
    "biases = tf.Variable(tf.zeros(n_classes))\n",
    "\n",
    "# Feed dicts for training, validation, and test session\n",
    "train_feed_dict = {features_original: train_features, labels: train_labels}\n",
    "valid_feed_dict = {features_original: valid_features, labels: valid_labels}\n",
    "test_feed_dict = {features_original: test_features, labels: test_labels}\n",
    "\n",
    "# Linear Function WX + b\n",
    "logits = tf.matmul(features, weights) + biases\n",
    "\n",
    "prediction = tf.nn.softmax(logits)\n",
    "\n",
    "# Cross entropy\n",
    "cross_entropy = -tf.reduce_sum(labels * tf.log(prediction), reduction_indices=1)\n",
    "\n",
    "# Training loss - Mean of the cross entropy \n",
    "loss = tf.reduce_mean(cross_entropy)"
   ]
  },
  {
   "cell_type": "code",
   "execution_count": 7,
   "metadata": {
    "collapsed": true
   },
   "outputs": [],
   "source": [
    "# Define batch size and model hyperparameters\n",
    "batch_size = 128\n",
    "epochs = 5\n",
    "learning_rate = 0.1\n",
    "\n",
    "# Optimiser - Gradient Descent\n",
    "optimizer = tf.train.GradientDescentOptimizer(learning_rate).minimize(loss)    \n",
    "\n",
    "# Create an operation that initializes all variables\n",
    "init = tf.global_variables_initializer()\n",
    "\n",
    "# Determine if the predictions are correct\n",
    "is_correct_prediction = tf.equal(tf.argmax(prediction, 1), tf.argmax(labels, 1))\n",
    "\n",
    "# Calculate the accuracy of the predictions\n",
    "accuracy = tf.reduce_mean(tf.cast(is_correct_prediction, tf.float32))   "
   ]
  },
  {
   "cell_type": "code",
   "execution_count": 8,
   "metadata": {},
   "outputs": [
    {
     "name": "stdout",
     "output_type": "stream",
     "text": [
      "(55000, 784)\n",
      "(784, 10)\n",
      "(55000, 10)\n"
     ]
    }
   ],
   "source": [
    "# Print shapes of tensors\n",
    "with tf.Session() as session:\n",
    "    session.run(init)\n",
    "    f,w,l = session.run([features,weights,labels], feed_dict=train_feed_dict)\n",
    "    print(f.shape)\n",
    "    print(w.shape)\n",
    "    print(l.shape)\n"
   ]
  },
  {
   "cell_type": "markdown",
   "metadata": {},
   "source": [
    "### Save Model \n",
    "\n",
    "Training a model can take hours. By closing a TensorFlow session, all the trained weights and biases are lost. To reuse the model in the future, one would have to train it all over again.\n",
    "\n",
    "TensorFlow has the ability to save the training progress using a class called `tf.train.Saver`. This class provides the functionality to save any `tf.Variable` to the file system.\n",
    "\n",
    "As can be seen below, when restoring, the weights and bias Tensors in Python still need to created. The `tf.train.Saver.restore()` function loads the saved data into weights and bias.\n",
    "\n",
    "Since `tf.train.Saver.restore()` sets all the TensorFlow Variables, you don't need to call `tf.global_variables_initializer()`."
   ]
  },
  {
   "cell_type": "code",
   "execution_count": 9,
   "metadata": {},
   "outputs": [
    {
     "name": "stderr",
     "output_type": "stream",
     "text": [
      "Epoch  1/5: 100%|██████████| 430/430 [00:03<00:00, 110.73batches/s]\n",
      "Epoch  2/5: 100%|██████████| 430/430 [00:04<00:00, 100.76batches/s]\n",
      "Epoch  3/5: 100%|██████████| 430/430 [00:02<00:00, 152.22batches/s]\n",
      "Epoch  4/5: 100%|██████████| 430/430 [00:02<00:00, 154.27batches/s]\n",
      "Epoch  5/5: 100%|██████████| 430/430 [00:03<00:00, 110.80batches/s]\n"
     ]
    },
    {
     "name": "stdout",
     "output_type": "stream",
     "text": [
      "Trained Model Saved.\n"
     ]
    },
    {
     "data": {
      "image/png": "[encoded data removed]",
      "text/plain": [
       "<matplotlib.figure.Figure at 0x1213a8ef0>"
      ]
     },
     "metadata": {},
     "output_type": "display_data"
    },
    {
     "name": "stdout",
     "output_type": "stream",
     "text": [
      "Validation accuracy at 0.8532000184059143\n"
     ]
    }
   ],
   "source": [
    "# The accuracy measured against the validation set\n",
    "validation_accuracy = 0.0\n",
    "\n",
    "# Measurements use for graphing loss and accuracy\n",
    "log_batch_step = 50\n",
    "batches = []\n",
    "loss_batch = []\n",
    "train_acc_batch = []\n",
    "valid_acc_batch = []\n",
    "\n",
    "# Save location \n",
    "save_file = './train_model.ckpt'\n",
    "saver = tf.train.Saver()\n",
    "\n",
    "with tf.Session() as session:\n",
    "    session.run(init)\n",
    "    batch_count = int(math.ceil(len(train_features)/batch_size))\n",
    "\n",
    "    for epoch_i in range(epochs):\n",
    "        \n",
    "        # Progress bar\n",
    "        batches_pbar = tqdm(range(batch_count), desc='Epoch {:>2}/{}'.format(epoch_i+1, epochs), unit='batches')\n",
    "        \n",
    "        # The training cycle\n",
    "        for batch_i in batches_pbar:\n",
    "            # Get a batch of training features and labels\n",
    "            batch_start = batch_i*batch_size\n",
    "            batch_features = train_features[batch_start:batch_start + batch_size]\n",
    "            batch_labels = train_labels[batch_start:batch_start + batch_size]\n",
    "\n",
    "            # Run optimizer and get loss\n",
    "            _, l = session.run([optimizer, loss],\n",
    "                               feed_dict={features_original: batch_features, \n",
    "                                          labels: batch_labels})\n",
    "\n",
    "            # Log every 50 batches\n",
    "            if not batch_i % log_batch_step:\n",
    "                # Calculate Training and Validation accuracy\n",
    "                training_accuracy = session.run(accuracy, feed_dict=train_feed_dict)\n",
    "                validation_accuracy = session.run(accuracy, feed_dict=valid_feed_dict)\n",
    "\n",
    "                # Log batches\n",
    "                previous_batch = batches[-1] if batches else 0\n",
    "                batches.append(log_batch_step + previous_batch)\n",
    "                loss_batch.append(l)\n",
    "                train_acc_batch.append(training_accuracy)\n",
    "                valid_acc_batch.append(validation_accuracy)\n",
    "\n",
    "        # Check accuracy against Validation data\n",
    "        validation_accuracy = session.run(accuracy, feed_dict=valid_feed_dict)\n",
    "    \n",
    "    # Save the model\n",
    "    saver.save(session, save_file)\n",
    "    print('Trained Model Saved.')\n",
    "\n",
    "loss_plot = plt.subplot(211)\n",
    "loss_plot.set_title('Loss')\n",
    "loss_plot.plot(batches, loss_batch, 'g')\n",
    "loss_plot.set_xlim([batches[0], batches[-1]])\n",
    "acc_plot = plt.subplot(212)\n",
    "acc_plot.set_title('Accuracy')\n",
    "acc_plot.plot(batches, train_acc_batch, 'r', label='Training Accuracy')\n",
    "acc_plot.plot(batches, valid_acc_batch, 'x', label='Validation Accuracy')\n",
    "acc_plot.set_ylim([0, 1.0])\n",
    "acc_plot.set_xlim([batches[0], batches[-1]])\n",
    "acc_plot.legend(loc=4)\n",
    "plt.tight_layout()\n",
    "plt.show()\n",
    "\n",
    "print('Validation accuracy at {}'.format(validation_accuracy))"
   ]
  },
  {
   "cell_type": "markdown",
   "metadata": {},
   "source": [
    "###  Finetune and Test the model against your hold out dataset/testing data."
   ]
  },
  {
   "cell_type": "code",
   "execution_count": 10,
   "metadata": {},
   "outputs": [
    {
     "name": "stderr",
     "output_type": "stream",
     "text": [
      "Epoch  1/1: 100%|██████████| 430/430 [00:00<00:00, 806.17batches/s]"
     ]
    },
    {
     "name": "stdout",
     "output_type": "stream",
     "text": [
      "0.8618\n"
     ]
    },
    {
     "name": "stderr",
     "output_type": "stream",
     "text": [
      "\n"
     ]
    }
   ],
   "source": [
    "# The accuracy measured against the test set\n",
    "test_accuracy = 0.0\n",
    "\n",
    "# Restore location\n",
    "saver = tf.train.Saver()\n",
    "\n",
    "with tf.Session() as session:\n",
    "    \n",
    "    # Restore model from file\n",
    "    saver.restore(session, save_file)\n",
    "    \n",
    "    # Fine tune for another epoch\n",
    "    batch_count = int(math.ceil(len(train_features)/batch_size))\n",
    "        \n",
    "    # Progress bar\n",
    "    batches_pbar = tqdm(range(batch_count), desc='Epoch {:>2}/{}'.format(1, 1), unit='batches')\n",
    "\n",
    "    # The training cycle\n",
    "    for batch_i in batches_pbar:\n",
    "        # Get a batch of training features and labels\n",
    "        batch_start = batch_i*batch_size\n",
    "        batch_features = train_features[batch_start:batch_start + batch_size]\n",
    "        batch_labels = train_labels[batch_start:batch_start + batch_size]\n",
    "\n",
    "        # Run optimizer\n",
    "        _ = session.run(optimizer, feed_dict={features_original: batch_features, labels: batch_labels})\n",
    "\n",
    "    # Check accuracy against Test data\n",
    "    test_accuracy = session.run(accuracy, feed_dict=test_feed_dict)\n",
    "    print(test_accuracy)"
   ]
  }
 ],
 "metadata": {
  "hide_input": false,
  "kernelspec": {
   "display_name": "Python 3",
   "language": "python",
   "name": "python3"
  },
  "language_info": {
   "codemirror_mode": {
    "name": "ipython",
    "version": 3
   },
   "file_extension": ".py",
   "mimetype": "text/x-python",
   "name": "python",
   "nbconvert_exporter": "python",
   "pygments_lexer": "ipython3",
   "version": "3.6.5"
  }
 },
 "nbformat": 4,
 "nbformat_minor": 2
}
